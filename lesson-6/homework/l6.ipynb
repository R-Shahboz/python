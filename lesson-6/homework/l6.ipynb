{
 "cells": [
  {
   "cell_type": "code",
   "execution_count": 1,
   "metadata": {},
   "outputs": [
    {
     "name": "stdout",
     "output_type": "stream",
     "text": [
      "Vowels in hello world: 3\n"
     ]
    }
   ],
   "source": [
    "text = \"hello world\"\n",
    "\n",
    "count = 0\n",
    "for char in text:\n",
    "    if char in \"aeuioAEUIO\":\n",
    "        count += 1\n",
    "\n",
    "print(f'Vowels in {text}: {count}')"
   ]
  },
  {
   "cell_type": "code",
   "execution_count": 2,
   "metadata": {},
   "outputs": [
    {
     "name": "stdout",
     "output_type": "stream",
     "text": [
      "Vowels in hello worldaaaaa: 3\n"
     ]
    }
   ],
   "source": [
    "text = \"hello worldaaaaa\"\n",
    "\n",
    "vowel_unique = set()\n",
    "for char in text:\n",
    "    if char in \"aeuioAEUIO\":\n",
    "        vowel_unique.add(char)\n",
    "\n",
    "print(f'Vowels in {text}: {len(vowel_unique)}')"
   ]
  },
  {
   "cell_type": "code",
   "execution_count": 3,
   "metadata": {},
   "outputs": [
    {
     "name": "stdout",
     "output_type": "stream",
     "text": [
      "Max number in a list: 83\n"
     ]
    }
   ],
   "source": [
    "ls = [1,6,83,6,2, -100]\n",
    "\n",
    "max_num = 0\n",
    "for num in ls:\n",
    "    if num>max_num:\n",
    "        max_num = num\n",
    "\n",
    "print(f'Max number in a list: {max_num}')"
   ]
  }
 ],
 "metadata": {
  "kernelspec": {
   "display_name": "Python 3",
   "language": "python",
   "name": "python3"
  },
  "language_info": {
   "codemirror_mode": {
    "name": "ipython",
    "version": 3
   },
   "file_extension": ".py",
   "mimetype": "text/x-python",
   "name": "python",
   "nbconvert_exporter": "python",
   "pygments_lexer": "ipython3",
   "version": "3.13.2"
  }
 },
 "nbformat": 4,
 "nbformat_minor": 2
}
