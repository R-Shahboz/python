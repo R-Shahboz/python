{
 "cells": [
  {
   "cell_type": "code",
   "execution_count": null,
   "metadata": {},
   "outputs": [],
   "source": [
    "import sqlite3\n",
    "import pandas as pd\n",
    "\n",
    "conn = sqlite3.connect(\"chinook.db\")\n",
    "\n",
    "query = \"\"\"\n",
    "    SELECT \n",
    "        Customer.CustomerId, \n",
    "        Customer.FirstName || ' ' || Customer.LastName AS FullName, \n",
    "        SUM(Invoice.Total) AS TotalSpent\n",
    "    FROM Customer\n",
    "    JOIN Invoice ON Customer.CustomerId = Invoice.CustomerId\n",
    "    GROUP BY Customer.CustomerId\n",
    "    ORDER BY TotalSpent DESC\n",
    "    LIMIT 5\n",
    "\"\"\"\n",
    "top_customers = pd.read_sql(query, conn)\n",
    "\n",
    "print(\" Eng ko‘p xarid qilgan 5 mijoz:\")\n",
    "print(top_customers)\n",
    "\n",
    "conn.close()\n"
   ]
  }
 ],
 "metadata": {
  "kernelspec": {
   "display_name": "Python 3",
   "language": "python",
   "name": "python3"
  },
  "language_info": {
   "codemirror_mode": {
    "name": "ipython",
    "version": 3
   },
   "file_extension": ".py",
   "mimetype": "text/x-python",
   "name": "python",
   "nbconvert_exporter": "python",
   "pygments_lexer": "ipython3",
   "version": "3.13.2"
  }
 },
 "nbformat": 4,
 "nbformat_minor": 2
}
