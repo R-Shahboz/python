{
 "cells": [
  {
   "cell_type": "code",
   "execution_count": 7,
   "metadata": {},
   "outputs": [
    {
     "name": "stdout",
     "output_type": "stream",
     "text": [
      "p= 8 s= 4\n"
     ]
    }
   ],
   "source": [
    "a=int(input(\"kvadrat tomonini kiriting:\"))\n",
    "b= 4*a\n",
    "c=pow(a,2)\n",
    "print(\"p=\",b,\"s=\",c)"
   ]
  },
  {
   "cell_type": "code",
   "execution_count": null,
   "metadata": {},
   "outputs": [],
   "source": [
    "import math\n",
    "a= int(input(\"diamentr kiriting:\"))\n",
    "r=a/2\n",
    "p= Math.pi\n",
    "l= 2*p*r\n",
    "print(\"uzunligi\",l,\"ga teng\")\n"
   ]
  },
  {
   "cell_type": "code",
   "execution_count": 8,
   "metadata": {},
   "outputs": [
    {
     "data": {
      "text/plain": [
       "2.5"
      ]
     },
     "execution_count": 8,
     "metadata": {},
     "output_type": "execute_result"
    }
   ],
   "source": [
    "a=int(input(\"birinchi son\"))\n",
    "b=int(input(\"ikkinchi son\"))\n",
    "result = (a+b)/2\n",
    "result"
   ]
  },
  {
   "cell_type": "code",
   "execution_count": 9,
   "metadata": {},
   "outputs": [
    {
     "name": "stdout",
     "output_type": "stream",
     "text": [
      "5 6 4 9\n"
     ]
    }
   ],
   "source": [
    "a=int(input(\"birinchi son\"))\n",
    "b=int(input(\"ikkinchi son\"))    \n",
    "summ = a+b\n",
    "product= a*b\n",
    "square = pow(a,2)\n",
    "square2 = pow(b,2)\n",
    "print(summ, product,square,square2)"
   ]
  }
 ],
 "metadata": {
  "kernelspec": {
   "display_name": "Python 3",
   "language": "python",
   "name": "python3"
  },
  "language_info": {
   "codemirror_mode": {
    "name": "ipython",
    "version": 3
   },
   "file_extension": ".py",
   "mimetype": "text/x-python",
   "name": "python",
   "nbconvert_exporter": "python",
   "pygments_lexer": "ipython3",
   "version": "3.13.2"
  }
 },
 "nbformat": 4,
 "nbformat_minor": 2
}
