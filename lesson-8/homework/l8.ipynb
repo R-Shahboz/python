{
 "cells": [
  {
   "cell_type": "code",
   "execution_count": null,
   "metadata": {},
   "outputs": [],
   "source": [
    "with open('test.txt', 'r') as file:\n",
    "    data = file.read().split()\n",
    "    print(f'The number of words: {len(data)}')\n",
    "    print(data)"
   ]
  },
  {
   "cell_type": "code",
   "execution_count": 2,
   "metadata": {},
   "outputs": [
    {
     "name": "stdout",
     "output_type": "stream",
     "text": [
      "You got zero division error\n",
      "Execution completed\n"
     ]
    }
   ],
   "source": [
    "with open('test.txt', 'w+') as file:\n",
    "    for i in file:\n",
    "        print(i.replace('Hello', 'Bye'))\n",
    "with open('test.txt', 'r+') as file:\n",
    "    data = file.read().replace('Hello', 'Bye')\n",
    "with open('test.txt', 'w') as file:\n",
    "    file.write(data)\n",
    "try:\n",
    "    3/0\n",
    "except ZeroDivisionError as z:\n",
    "    print('You got zero division error')\n",
    "finally:\n",
    "    print('Execution completed')  "
   ]
  },
  {
   "cell_type": "code",
   "execution_count": null,
   "metadata": {},
   "outputs": [
    {
     "data": {
      "text/plain": [
       "'Shahboz'"
      ]
     },
     "execution_count": 4,
     "metadata": {},
     "output_type": "execute_result"
    }
   ],
   "source": [
    "with open('test.txt', 'r') as file:\n",
    "    data = [line for line in file if line.strip()]\n",
    "with open('test.txt', 'w') as file:\n",
    "    file.writelines(data)\n",
    "ls = '   Shahboz    '\n",
    "ls.strip()\n"
   ]
  },
  {
   "cell_type": "code",
   "execution_count": 5,
   "metadata": {},
   "outputs": [
    {
     "name": "stdout",
     "output_type": "stream",
     "text": [
      "[]\n"
     ]
    }
   ],
   "source": [
    "with open('test.txt', 'r') as file:\n",
    "    data = file.readlines()\n",
    "    print(data)"
   ]
  }
 ],
 "metadata": {
  "kernelspec": {
   "display_name": "Python 3",
   "language": "python",
   "name": "python3"
  },
  "language_info": {
   "codemirror_mode": {
    "name": "ipython",
    "version": 3
   },
   "file_extension": ".py",
   "mimetype": "text/x-python",
   "name": "python",
   "nbconvert_exporter": "python",
   "pygments_lexer": "ipython3",
   "version": "3.13.2"
  }
 },
 "nbformat": 4,
 "nbformat_minor": 2
}
