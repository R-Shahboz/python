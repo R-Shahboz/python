{
 "cells": [
  {
   "cell_type": "code",
   "execution_count": 1,
   "metadata": {},
   "outputs": [
    {
     "name": "stdout",
     "output_type": "stream",
     "text": [
      "Successfully withdrew 10.0\n",
      "Remaining balance: 10.0\n"
     ]
    }
   ],
   "source": [
    "balance = float(input('Enter your balance: '))\n",
    "withdrawal = float(input('Enter withdrawal amount: '))\n",
    "\n",
    "if balance >= withdrawal and withdrawal % 10 == 0:\n",
    "    print(f'Successfully withdrew {withdrawal}')\n",
    "    print(f'Remaining balance: {balance - withdrawal}')\n",
    "elif balance >= withdrawal and withdrawal % 10 != 0:\n",
    "    print('Please enter the withdrawal amount divisible by 10')\n",
    "else:\n",
    "    print('No sufficient balance')"
   ]
  }
 ],
 "metadata": {
  "kernelspec": {
   "display_name": "Python 3",
   "language": "python",
   "name": "python3"
  },
  "language_info": {
   "codemirror_mode": {
    "name": "ipython",
    "version": 3
   },
   "file_extension": ".py",
   "mimetype": "text/x-python",
   "name": "python",
   "nbconvert_exporter": "python",
   "pygments_lexer": "ipython3",
   "version": "3.13.2"
  }
 },
 "nbformat": 4,
 "nbformat_minor": 2
}
