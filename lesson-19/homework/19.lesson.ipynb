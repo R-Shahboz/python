{
 "cells": [
  {
   "cell_type": "code",
   "execution_count": 3,
   "metadata": {},
   "outputs": [
    {
     "name": "stdout",
     "output_type": "stream",
     "text": [
      "Kategoriyala statistik ma'lumotlar:\n",
      "      Category  Total_Quantity_Sold   Avg_Price  Max_Quantity_Sold\n",
      "0     Clothing                  157   31.176471                 15\n",
      "1  Electronics                  183  276.764706                 15\n",
      "2         Home                  144   55.000000                 14\n",
      "\n",
      " kategoriya bo‘yicha eng ko‘p sotilgan mahsulot:\n",
      "       Category          Product  Total_Quantity_Sold\n",
      "8      Clothing            Jeans                   15\n",
      "27  Electronics         Smart TV                   15\n",
      "46         Home  Pressure Cooker                   14\n",
      "\n",
      " Eng katta umumiy savdo 2023-01-07 Jami savdo: $15150\n"
     ]
    }
   ],
   "source": [
    "import pandas as pd\n",
    "\n",
    "df = pd.read_csv(\"sales_data.csv\")\n",
    "\n",
    "category_stats = df.groupby(\"Category\").agg(\n",
    "    Total_Quantity_Sold=(\"Quantity\", \"sum\"),\n",
    "    Avg_Price=(\"Price\", \"mean\"),\n",
    "    Max_Quantity_Sold=(\"Quantity\", \"max\")\n",
    ").reset_index()\n",
    "\n",
    "print(\"Kategoriyala statistik ma'lumotlar:\")\n",
    "print(category_stats)\n",
    "\n",
    "top_products = df.groupby([\"Category\", \"Product\"]).agg(\n",
    "    Total_Quantity_Sold=(\"Quantity\", \"sum\")\n",
    ").reset_index()\n",
    "top_selling_products = top_products.loc[\n",
    "    top_products.groupby(\"Category\")[\"Total_Quantity_Sold\"].idxmax()\n",
    "]\n",
    "print(\"\\n kategoriya bo‘yicha eng ko‘p sotilgan mahsulot:\")\n",
    "print(top_selling_products)\n",
    "\n",
    "df[\"Total_Sales\"] = df[\"Quantity\"] * df[\"Price\"]\n",
    "\n",
    "highest_sales_date = df.groupby(\"Date\")[\"Total_Sales\"].sum().idxmax()\n",
    "highest_sales_value = df.groupby(\"Date\")[\"Total_Sales\"].sum().max()\n",
    "\n",
    "print(f\"\\n Eng katta umumiy savdo {highest_sales_date} Jami savdo: ${highest_sales_value}\")\n"
   ]
  },
  {
   "cell_type": "code",
   "execution_count": null,
   "metadata": {},
   "outputs": [],
   "source": []
  }
 ],
 "metadata": {
  "kernelspec": {
   "display_name": "Python 3",
   "language": "python",
   "name": "python3"
  },
  "language_info": {
   "codemirror_mode": {
    "name": "ipython",
    "version": 3
   },
   "file_extension": ".py",
   "mimetype": "text/x-python",
   "name": "python",
   "nbconvert_exporter": "python",
   "pygments_lexer": "ipython3",
   "version": "3.13.2"
  }
 },
 "nbformat": 4,
 "nbformat_minor": 2
}
