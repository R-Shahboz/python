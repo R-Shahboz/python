{
 "cells": [
  {
   "cell_type": "code",
   "execution_count": 4,
   "metadata": {},
   "outputs": [
    {
     "name": "stdout",
     "output_type": "stream",
     "text": [
      "ism:Rahimberdiyev Shahboz\n",
      "yosh:22\n",
      "fakultet:IT\n"
     ]
    }
   ],
   "source": [
    "import json\n",
    "with open(\"student.json\", \"r\", encoding=\"utf-8\")as file:\n",
    "    data = json.load(file)\n",
    "\n",
    "for student in data[\"students\"]:\n",
    "    print(f\"ism:{student['name']}\")\n",
    "    print(f\"yosh:{student['age']}\")\n",
    "    print(f\"fakultet:{student['faculty']}\")\n"
   ]
  },
  {
   "cell_type": "code",
   "execution_count": 11,
   "metadata": {},
   "outputs": [
    {
     "name": "stdout",
     "output_type": "stream",
     "text": [
      "Xatolik: Ob-havo ma'lumotlarini olish imkoni bo'lmadi!\n"
     ]
    }
   ],
   "source": [
    "import requests\n",
    "\n",
    "API_KEY = \"e0e7c9d6e7da25c75dcfba00b75d497b\"\n",
    "CITY = \"Tashkent\"\n",
    "URL = f\"https://api.openweathermap.org/data/2.5/weather?q={CITY}&appid={API_KEY}&units=metric\"\n",
    "\n",
    "response = requests.get(URL)\n",
    "\n",
    "if response.status_code == 200:\n",
    "    data = response.json()  # JSON ma'lumotlarni olish\n",
    "\n",
    "    temperature = data[\"main\"][\"temp\"]\n",
    "    humidity = data[\"main\"][\"humidity\"]\n",
    "\n",
    "    print(f\"Shahar: {CITY}\")\n",
    "    print(f\"Harorat: {temperature}°C\")\n",
    "    print(f\"Namlik: {humidity}%\")\n",
    "\n",
    "else:\n",
    "    print(\"Xatolik: Ob-havo ma'lumotlarini olish imkoni bo'lmadi!\")\n"
   ]
  },
  {
   "cell_type": "code",
   "execution_count": null,
   "metadata": {},
   "outputs": [],
   "source": [
    "import requests\n",
    "\n",
    "URL = \"https://obhavo.uz/tashkent\"\n",
    "\n",
    "response = requests.get(URL)\n",
    "response.raise_for_status()  \n",
    "\n",
    "page_content = response.text\n",
    "\n",
    "print(page_content)\n",
    "\n"
   ]
  }
 ],
 "metadata": {
  "kernelspec": {
   "display_name": "Python 3",
   "language": "python",
   "name": "python3"
  },
  "language_info": {
   "codemirror_mode": {
    "name": "ipython",
    "version": 3
   },
   "file_extension": ".py",
   "mimetype": "text/x-python",
   "name": "python",
   "nbconvert_exporter": "python",
   "pygments_lexer": "ipython3",
   "version": "3.13.2"
  }
 },
 "nbformat": 4,
 "nbformat_minor": 2
}
