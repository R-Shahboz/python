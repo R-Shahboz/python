{
 "cells": [
  {
   "cell_type": "code",
   "execution_count": 4,
   "metadata": {},
   "outputs": [
    {
     "name": "stdout",
     "output_type": "stream",
     "text": [
      "(1.5, 2.3),  (255.0, 0.0, 0.0)\n",
      "(3.0, 4.1),  (0.0, 255.0, 0.0)\n"
     ]
    }
   ],
   "source": [
    "import numpy as np\n",
    "\n",
    "points = np.array([\n",
    "    [1.5, 2.3, 255, 0, 0], \n",
    "    [3.0, 4.1, 0, 255, 0],\n",
    "])\n",
    "for point in points:\n",
    "    print(f\"({point[0]}, {point[1]}),  ({point[2]}, {point[3]}, {point[4]})\")\n"
   ]
  },
  {
   "cell_type": "code",
   "execution_count": null,
   "metadata": {},
   "outputs": [
    {
     "name": "stdout",
     "output_type": "stream",
     "text": [
      "[ 1 -2  3  0]\n"
     ]
    }
   ],
   "source": [
    "import numpy as np\n",
    "\n",
    "float_array = np.array([1.5, -2.3, 3.14, 0.0], dtype=np.float32)\n",
    "\n",
    "float_array = float_array.astype(np.int32)  \n",
    "\n",
    "print(float_array)\n"
   ]
  },
  {
   "cell_type": "code",
   "execution_count": 11,
   "metadata": {},
   "outputs": [
    {
     "name": "stdout",
     "output_type": "stream",
     "text": [
      "[[ 1.  2.  3.  4.  5.]\n",
      " [ 6. nan nan  7.  8.]\n",
      " [nan nan  9. 10. 11.]]\n"
     ]
    }
   ],
   "source": [
    "import numpy as np\n",
    "\n",
    "data = np.genfromtxt(\"16.csv\", delimiter=\",\", dtype=np.float32)\n",
    "\n",
    "print(data)\n"
   ]
  },
  {
   "cell_type": "code",
   "execution_count": 12,
   "metadata": {},
   "outputs": [
    {
     "name": "stdout",
     "output_type": "stream",
     "text": [
      "Indeks: (0, 0), Qiymat: 10\n",
      "Indeks: (0, 1), Qiymat: 20\n",
      "Indeks: (1, 0), Qiymat: 30\n",
      "Indeks: (1, 1), Qiymat: 40\n"
     ]
    }
   ],
   "source": [
    "import numpy as np\n",
    "\n",
    "arr = np.array([[10, 20], [30, 40]])\n",
    "\n",
    "for index, value in np.ndenumerate(arr):\n",
    "    print(f\"Indeks: {index}, Qiymat: {value}\")\n",
    "\n"
   ]
  }
 ],
 "metadata": {
  "kernelspec": {
   "display_name": "Python 3",
   "language": "python",
   "name": "python3"
  },
  "language_info": {
   "codemirror_mode": {
    "name": "ipython",
    "version": 3
   },
   "file_extension": ".py",
   "mimetype": "text/x-python",
   "name": "python",
   "nbconvert_exporter": "python",
   "pygments_lexer": "ipython3",
   "version": "3.13.2"
  }
 },
 "nbformat": 4,
 "nbformat_minor": 2
}
