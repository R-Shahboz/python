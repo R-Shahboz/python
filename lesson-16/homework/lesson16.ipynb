{
 "cells": [
  {
   "cell_type": "code",
   "execution_count": 4,
   "metadata": {},
   "outputs": [
    {
     "name": "stdout",
     "output_type": "stream",
     "text": [
      "(1.5, 2.3),  (255.0, 0.0, 0.0)\n",
      "(3.0, 4.1),  (0.0, 255.0, 0.0)\n"
     ]
    }
   ],
   "source": [
    "import numpy as np\n",
    "\n",
    "points = np.array([\n",
    "    [1.5, 2.3, 255, 0, 0], \n",
    "    [3.0, 4.1, 0, 255, 0],\n",
    "])\n",
    "for point in points:\n",
    "    print(f\"({point[0]}, {point[1]}),  ({point[2]}, {point[3]}, {point[4]})\")\n"
   ]
  },
  {
   "cell_type": "code",
   "execution_count": null,
   "metadata": {},
   "outputs": [
    {
     "name": "stdout",
     "output_type": "stream",
     "text": [
      "[ 1 -2  3  0]\n"
     ]
    }
   ],
   "source": [
    "import numpy as np\n",
    "\n",
    "float_array = np.array([1.5, -2.3, 3.14, 0.0], dtype=np.float32)\n",
    "\n",
    "float_array = float_array.astype(np.int32)  \n",
    "\n",
    "print(float_array)\n"
   ]
  },
  {
   "cell_type": "code",
   "execution_count": 11,
   "metadata": {},
   "outputs": [
    {
     "name": "stdout",
     "output_type": "stream",
     "text": [
      "[[ 1.  2.  3.  4.  5.]\n",
      " [ 6. nan nan  7.  8.]\n",
      " [nan nan  9. 10. 11.]]\n"
     ]
    }
   ],
   "source": [
    "import numpy as np\n",
    "\n",
    "data = np.genfromtxt(\"16.csv\", delimiter=\",\", dtype=np.float32)\n",
    "\n",
    "print(data)\n"
   ]
  },
  {
   "cell_type": "code",
   "execution_count": 12,
   "metadata": {},
   "outputs": [
    {
     "name": "stdout",
     "output_type": "stream",
     "text": [
      "Indeks: (0, 0), Qiymat: 10\n",
      "Indeks: (0, 1), Qiymat: 20\n",
      "Indeks: (1, 0), Qiymat: 30\n",
      "Indeks: (1, 1), Qiymat: 40\n"
     ]
    }
   ],
   "source": [
    "import numpy as np\n",
    "\n",
    "arr = np.array([[10, 20], [30, 40]])\n",
    "\n",
    "for index, value in np.ndenumerate(arr):\n",
    "    print(f\"Indeks: {index}, Qiymat: {value}\")\n",
    "\n"
   ]
  },
  {
   "cell_type": "code",
   "execution_count": 1,
   "metadata": {},
   "outputs": [
    {
     "name": "stdout",
     "output_type": "stream",
     "text": [
      "[((1., 2.), (255,   0, 0)) ((3., 4.), (  0, 255, 0))]\n"
     ]
    }
   ],
   "source": [
    "import numpy as np\n",
    "\n",
    "dtype = [('position', [('x', float), ('y', float)]), ('color', [('r', int), ('g', int), ('b', int)])]\n",
    "arr = np.array([((1.0, 2.0), (255, 0, 0)), ((3.0, 4.0), (0, 255, 0))], dtype=dtype)\n",
    "print(arr)\n"
   ]
  },
  {
   "cell_type": "code",
   "execution_count": 1,
   "metadata": {},
   "outputs": [
    {
     "ename": "NameError",
     "evalue": "name 'np' is not defined",
     "output_type": "error",
     "traceback": [
      "\u001b[1;31m---------------------------------------------------------------------------\u001b[0m",
      "\u001b[1;31mNameError\u001b[0m                                 Traceback (most recent call last)",
      "Cell \u001b[1;32mIn[1], line 3\u001b[0m\n\u001b[0;32m      1\u001b[0m \u001b[38;5;28;01mfrom\u001b[39;00m\u001b[38;5;250m \u001b[39m\u001b[38;5;21;01mscipy\u001b[39;00m\u001b[38;5;21;01m.\u001b[39;00m\u001b[38;5;21;01mspatial\u001b[39;00m\u001b[38;5;250m \u001b[39m\u001b[38;5;28;01mimport\u001b[39;00m distance\n\u001b[1;32m----> 3\u001b[0m points \u001b[38;5;241m=\u001b[39m \u001b[43mnp\u001b[49m\u001b[38;5;241m.\u001b[39mrandom\u001b[38;5;241m.\u001b[39mrand(\u001b[38;5;241m100\u001b[39m, \u001b[38;5;241m2\u001b[39m)\n\u001b[0;32m      4\u001b[0m distances \u001b[38;5;241m=\u001b[39m distance\u001b[38;5;241m.\u001b[39mcdist(points, points)\n\u001b[0;32m      5\u001b[0m \u001b[38;5;28mprint\u001b[39m(distances)\n",
      "\u001b[1;31mNameError\u001b[0m: name 'np' is not defined"
     ]
    }
   ],
   "source": [
    "from scipy.spatial import distance\n",
    "\n",
    "points = np.random.rand(100, 2)\n",
    "distances = distance.cdist(points, points)\n",
    "print(distances)\n"
   ]
  },
  {
   "cell_type": "code",
   "execution_count": 3,
   "metadata": {},
   "outputs": [
    {
     "name": "stdout",
     "output_type": "stream",
     "text": [
      "[         0 1065353216 1073741824 1077936128 1082130432 1084227584\n",
      " 1086324736 1088421888 1090519040 1091567616]\n"
     ]
    }
   ],
   "source": [
    "arr = np.arange(10, dtype=np.float32)\n",
    "arr = arr.view(np.int32)\n",
    "print(arr)\n"
   ]
  },
  {
   "cell_type": "code",
   "execution_count": 4,
   "metadata": {},
   "outputs": [
    {
     "name": "stdout",
     "output_type": "stream",
     "text": [
      "[[ 1.  2.  3.  4.  5.]\n",
      " [ 6.  0.  0.  7.  8.]\n",
      " [ 0.  0.  9. 10. 11.]]\n"
     ]
    }
   ],
   "source": [
    "from io import StringIO\n",
    "\n",
    "text = \"\"\"1, 2, 3, 4, 5\n",
    "6,  ,  , 7, 8\n",
    " ,  , 9,10,11\"\"\"\n",
    "\n",
    "data = np.genfromtxt(StringIO(text), delimiter=\",\", filling_values=0)\n",
    "print(data)\n"
   ]
  },
  {
   "cell_type": "code",
   "execution_count": 5,
   "metadata": {},
   "outputs": [
    {
     "name": "stdout",
     "output_type": "stream",
     "text": [
      "(0,) 10\n",
      "(1,) 20\n",
      "(2,) 30\n"
     ]
    }
   ],
   "source": [
    "arr = np.array([10, 20, 30])\n",
    "for i, val in np.ndenumerate(arr):\n",
    "    print(i, val)\n"
   ]
  },
  {
   "cell_type": "code",
   "execution_count": 6,
   "metadata": {},
   "outputs": [
    {
     "name": "stdout",
     "output_type": "stream",
     "text": [
      "[[0.13533528 0.20090196 0.27018673 0.32919299 0.36336564 0.36336564\n",
      "  0.32919299 0.27018673 0.20090196 0.13533528]\n",
      " [0.20090196 0.2982341  0.40108566 0.48867903 0.53940751 0.53940751\n",
      "  0.48867903 0.40108566 0.2982341  0.20090196]\n",
      " [0.27018673 0.40108566 0.53940751 0.65720907 0.72543221 0.72543221\n",
      "  0.65720907 0.53940751 0.40108566 0.27018673]\n",
      " [0.32919299 0.48867903 0.65720907 0.8007374  0.88385983 0.88385983\n",
      "  0.8007374  0.65720907 0.48867903 0.32919299]\n",
      " [0.36336564 0.53940751 0.72543221 0.88385983 0.97561098 0.97561098\n",
      "  0.88385983 0.72543221 0.53940751 0.36336564]\n",
      " [0.36336564 0.53940751 0.72543221 0.88385983 0.97561098 0.97561098\n",
      "  0.88385983 0.72543221 0.53940751 0.36336564]\n",
      " [0.32919299 0.48867903 0.65720907 0.8007374  0.88385983 0.88385983\n",
      "  0.8007374  0.65720907 0.48867903 0.32919299]\n",
      " [0.27018673 0.40108566 0.53940751 0.65720907 0.72543221 0.72543221\n",
      "  0.65720907 0.53940751 0.40108566 0.27018673]\n",
      " [0.20090196 0.2982341  0.40108566 0.48867903 0.53940751 0.53940751\n",
      "  0.48867903 0.40108566 0.2982341  0.20090196]\n",
      " [0.13533528 0.20090196 0.27018673 0.32919299 0.36336564 0.36336564\n",
      "  0.32919299 0.27018673 0.20090196 0.13533528]]\n"
     ]
    }
   ],
   "source": [
    "x, y = np.meshgrid(np.linspace(-1,1,10), np.linspace(-1,1,10))\n",
    "gaussian = np.exp(-(x**2 + y**2))\n",
    "print(gaussian)\n"
   ]
  },
  {
   "cell_type": "code",
   "execution_count": 7,
   "metadata": {},
   "outputs": [
    {
     "name": "stdout",
     "output_type": "stream",
     "text": [
      "[[-0.16310376 -0.03112971 -0.21253932  0.10568625  0.30108654]\n",
      " [-0.0956198   0.24936553 -0.49618999  0.27956274  0.06288152]\n",
      " [-0.12941026  0.26623992 -0.24060296  0.04262251  0.06115078]\n",
      " [-0.37257423 -0.20021767  0.4094243  -0.09581957  0.25918717]\n",
      " [-0.47306015  0.2644336  -0.28668878  0.04256871  0.45274662]]\n"
     ]
    }
   ],
   "source": [
    "arr = np.random.rand(5, 5)\n",
    "arr -= arr.mean(axis=1, keepdims=True)\n",
    "print(arr)\n"
   ]
  },
  {
   "cell_type": "code",
   "execution_count": 8,
   "metadata": {},
   "outputs": [
    {
     "name": "stdout",
     "output_type": "stream",
     "text": [
      "[[42 57 14 97 59]\n",
      " [62 89 18 37 81]\n",
      " [47 93 19 63 74]\n",
      " [16 97 47 49 22]\n",
      " [70 89 67 35 98]]\n"
     ]
    }
   ],
   "source": [
    "arr = np.random.randint(0, 100, (5, 5))\n",
    "sorted_arr = arr[arr[:, 2].argsort()]\n",
    "print(sorted_arr)\n"
   ]
  },
  {
   "cell_type": "code",
   "execution_count": 9,
   "metadata": {},
   "outputs": [
    {
     "name": "stdout",
     "output_type": "stream",
     "text": [
      "[False  True False]\n"
     ]
    }
   ],
   "source": [
    "arr = np.array([[1, 0, 3], [4, 0, 6], [7, 0, 9]])\n",
    "print(np.all(arr == 0, axis=0))\n"
   ]
  },
  {
   "cell_type": "code",
   "execution_count": 10,
   "metadata": {},
   "outputs": [
    {
     "name": "stdout",
     "output_type": "stream",
     "text": [
      "7\n"
     ]
    }
   ],
   "source": [
    "arr = np.array([1, 3, 7, 10, 15])\n",
    "val = 8\n",
    "nearest = arr[np.abs(arr - val).argmin()]\n",
    "print(nearest)\n"
   ]
  },
  {
   "cell_type": "code",
   "execution_count": 11,
   "metadata": {},
   "outputs": [
    {
     "name": "stdout",
     "output_type": "stream",
     "text": [
      "[[2. 2. 2.]\n",
      " [2. 2. 2.]\n",
      " [2. 2. 2.]]\n"
     ]
    }
   ],
   "source": [
    "A = np.ones((1,3))\n",
    "B = np.ones((3,1))\n",
    "it = np.nditer([A, B, None])\n",
    "for x, y, z in it:\n",
    "    z[...] = x + y\n",
    "print(it.operands[2])\n"
   ]
  },
  {
   "cell_type": "code",
   "execution_count": 13,
   "metadata": {},
   "outputs": [
    {
     "name": "stdout",
     "output_type": "stream",
     "text": [
      "MyArray\n"
     ]
    }
   ],
   "source": [
    "class NamedArray(np.ndarray):\n",
    "    def __new__(cls, array, name=\"array\"):\n",
    "        obj = np.asarray(array).view(cls)\n",
    "        obj.name = name\n",
    "        return obj\n",
    "\n",
    "arr = NamedArray([1,2,3], name=\"MyArray\")\n",
    "print(arr.name)\n"
   ]
  },
  {
   "cell_type": "code",
   "execution_count": 14,
   "metadata": {},
   "outputs": [
    {
     "name": "stdout",
     "output_type": "stream",
     "text": [
      "[0. 0. 2. 1. 2. 0. 0. 0. 0. 0.]\n"
     ]
    }
   ],
   "source": [
    "arr = np.zeros(10)\n",
    "idx = np.array([2, 2, 3, 4, 4])\n",
    "np.add.at(arr, idx, 1)\n",
    "print(arr)\n"
   ]
  },
  {
   "cell_type": "code",
   "execution_count": 15,
   "metadata": {},
   "outputs": [
    {
     "name": "stdout",
     "output_type": "stream",
     "text": [
      "[4. 6.]\n"
     ]
    }
   ],
   "source": [
    "X = np.array([1, 2, 3, 4])\n",
    "I = np.array([0, 1, 0, 1])\n",
    "F = np.zeros(2)\n",
    "np.add.at(F, I, X)\n",
    "print(F)\n"
   ]
  }
 ],
 "metadata": {
  "kernelspec": {
   "display_name": "Python 3",
   "language": "python",
   "name": "python3"
  },
  "language_info": {
   "codemirror_mode": {
    "name": "ipython",
    "version": 3
   },
   "file_extension": ".py",
   "mimetype": "text/x-python",
   "name": "python",
   "nbconvert_exporter": "python",
   "pygments_lexer": "ipython3",
   "version": "3.13.2"
  }
 },
 "nbformat": 4,
 "nbformat_minor": 2
}
