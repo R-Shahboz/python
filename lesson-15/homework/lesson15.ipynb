{
 "cells": [
  {
   "cell_type": "code",
   "execution_count": null,
   "metadata": {},
   "outputs": [],
   "source": [
    "import sqlite3\n",
    "conn = sqlite3.connect(\"star_trek.db\")\n",
    "cursor = conn.cursor()\n",
    "\n",
    "cursor.execute(\"\"\"\n",
    "    CREATE TABLE IF NOT EXISTS Roster (\n",
    "        Name TEXT,\n",
    "        Species TEXT,\n",
    "        Age INTEGER\n",
    "    )\n",
    "\"\"\")\n",
    "\n",
    "\n",
    "cursor.executemany(\"\"\"\n",
    "    INSERT INTO Roster (Name, Species, Age) VALUES (?, ?, ?)\n",
    "\"\"\", [\n",
    "    (\"Benjamin Sisko\", \"Human\", 40),\n",
    "    (\"Jadzia Dax\", \"Trill\", 300),\n",
    "    (\"Kira Nerys\", \"Bajoran\", 29)\n",
    "])\n",
    "\n",
    "conn.commit()\n",
    "\n",
    "\n",
    "cursor.execute(\"\"\"\n",
    "    UPDATE Roster SET Name = 'Ezri Dax' WHERE Name = 'Jadzia Dax'\n",
    "\"\"\")\n",
    "conn.commit()\n",
    "\n",
    "\n",
    "cursor.execute(\"\"\"\n",
    "    SELECT Name, Age FROM Roster WHERE Species = 'Bajoran'\n",
    "\"\"\")\n",
    "results = cursor.fetchall()\n",
    "\n",
    "print(\"Bajoran turkumidagi shaxslar:\")\n",
    "for name, age in results:\n",
    "    print(f\"Name: {name}, Age: {age}\")\n",
    "\n",
    "\n",
    "conn.close()\n"
   ]
  }
 ],
 "metadata": {
  "language_info": {
   "name": "python"
  }
 },
 "nbformat": 4,
 "nbformat_minor": 2
}
