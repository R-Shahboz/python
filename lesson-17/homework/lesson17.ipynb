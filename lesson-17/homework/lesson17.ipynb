{
 "cells": [
  {
   "cell_type": "code",
   "execution_count": 21,
   "metadata": {},
   "outputs": [
    {
     "name": "stdout",
     "output_type": "stream",
     "text": [
      "3 qator\n",
      "   first_name  age      city\n",
      "0    Shahboz   25  tashkent\n",
      "1      Akmal   26   fergana\n",
      "2      javoh   27  Andijjon\n",
      "\n",
      " o'rtacha age: 28.0\n",
      "\n",
      " 'name' 'city'\n",
      "   first_name      city\n",
      "0    Shahboz  tashkent\n",
      "1      Akmal   fergana\n",
      "2      javoh  Andijjon\n",
      "3      Nodir    SJjfne\n",
      "\n",
      " dataframe \n",
      "   first_name  age      city  salary\n",
      "0    Shahboz   25  tashkent   56894\n",
      "1      Akmal   26   fergana   77607\n",
      "2      javoh   27  Andijjon   54725\n",
      "3      Nodir   34    SJjfne   57046\n",
      "\n",
      " statistikasi:\n",
      "              age        salary\n",
      "count   4.000000      4.000000\n",
      "mean   28.000000  61568.000000\n",
      "std     4.082483  10745.090817\n",
      "min    25.000000  54725.000000\n",
      "25%    25.750000  56351.750000\n",
      "50%    26.500000  56970.000000\n",
      "75%    28.750000  62186.250000\n",
      "max    34.000000  77607.000000\n"
     ]
    }
   ],
   "source": [
    "import pandas as pd\n",
    "import numpy as np\n",
    "\n",
    "data={'First name': ['Shahboz', 'Akmal', 'javoh', 'Nodir'],\n",
    "       'age': [25,26,27,34],\n",
    "       'city': ['tashkent','fergana','Andijjon','SJjfne']\n",
    "      }\n",
    "df = pd.DataFrame(data)\n",
    "\n",
    "df.rename(columns=lambda x: x.lower().replace(\" \", \"_\"),inplace = True)\n",
    "\n",
    "print('3 qator\\n', df.head(3))\n",
    "\n",
    "mean_age = df['age'].mean()\n",
    "print(\"\\n o'rtacha age:\", mean_age)\n",
    "\n",
    "print(\"\\n 'name' 'city'\\n\", df[['first_name', 'city']])\n",
    "\n",
    "df[\"salary\"] = np.random.randint(40000, 100000, size=len(df))\n",
    "print(\"\\n dataframe \\n\",df)\n",
    "\n",
    "print(\"\\n statistikasi:\\n\", df.describe())\n"
   ]
  },
  {
   "cell_type": "code",
   "execution_count": 23,
   "metadata": {},
   "outputs": [
    {
     "name": "stdout",
     "output_type": "stream",
     "text": [
      "max sales 8000\n",
      "max expenses 4500\n",
      "min sales 5000\n",
      "min expenses 3000\n",
      "avg sales 6625.0\n",
      "avg expenses 3750.0\n"
     ]
    }
   ],
   "source": [
    "import pandas as pd\n",
    "\n",
    "data = {\n",
    "    'month': ['jan', 'feb', 'mar', 'apr'],\n",
    "    'sales': [5000, 6000, 7500, 8000],\n",
    "    'expense': [3000, 3500, 4000, 4500]\n",
    "}\n",
    "\n",
    "sales_expenses = pd.DataFrame(data)\n",
    "\n",
    "max_sales = sales_expenses['sales'].max()\n",
    "max_expenses = sales_expenses['expense'].max()\n",
    "\n",
    "min_sales = sales_expenses['sales'].min()\n",
    "min_expenses = sales_expenses['expense'].min()\n",
    "\n",
    "avg_sales = sales_expenses['sales'].mean()\n",
    "avg_expenses = sales_expenses['expense'].mean()\n",
    "\n",
    "print('max sales', max_sales)\n",
    "print('max expenses', max_expenses)\n",
    "print('min sales', min_sales)\n",
    "print('min expenses', min_expenses)\n",
    "print('avg sales', avg_sales)\n",
    "print('avg expenses', avg_expenses)\n"
   ]
  }
 ],
 "metadata": {
  "kernelspec": {
   "display_name": "Python 3",
   "language": "python",
   "name": "python3"
  },
  "language_info": {
   "codemirror_mode": {
    "name": "ipython",
    "version": 3
   },
   "file_extension": ".py",
   "mimetype": "text/x-python",
   "name": "python",
   "nbconvert_exporter": "python",
   "pygments_lexer": "ipython3",
   "version": "3.13.2"
  }
 },
 "nbformat": 4,
 "nbformat_minor": 2
}
