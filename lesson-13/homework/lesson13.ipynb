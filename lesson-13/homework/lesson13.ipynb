{
 "cells": [
  {
   "cell_type": "code",
   "execution_count": 3,
   "metadata": {},
   "outputs": [
    {
     "name": "stdout",
     "output_type": "stream",
     "text": [
      "Sizning yoshingiz: 22 yil, 5 oy, 16 kun.\n"
     ]
    }
   ],
   "source": [
    "from datetime import datetime\n",
    "\n",
    "# Foydalanuvchidan tug‘ilgan sanani olish\n",
    "birth_date_str = input(\"Tug‘ilgan sanangizni kiriting (YYYY-MM-DD): \")\n",
    "birth_date = datetime.strptime(birth_date_str, \"%Y-%m-%d\")\n",
    "\n",
    "current_date = datetime.today()\n",
    "\n",
    "age_days = (current_date - birth_date).days\n",
    "years = age_days // 365\n",
    "months = (age_days % 365) // 30\n",
    "days = (age_days % 365) % 30\n",
    "\n",
    "print(f\"Sizning yoshingiz: {years} yil, {months} oy, {days} kun.\")\n"
   ]
  },
  {
   "cell_type": "code",
   "execution_count": null,
   "metadata": {},
   "outputs": [
    {
     "name": "stdout",
     "output_type": "stream",
     "text": [
      "Keyingi tug‘ilgan kuningizgacha 204 kun qoldi.\n"
     ]
    }
   ],
   "source": [
    "from datetime import datetime\n",
    "\n",
    "birth_date_str = input(\"Tug‘ilgan sanangizni kiriting (YYYY-MM-DD): \")\n",
    "birth_date = datetime.strptime(birth_date_str, \"%Y-%m-%d\")\n",
    "\n",
    "current_date = datetime.today()\n",
    "\n",
    "\n",
    "next_birthday = datetime(current_date.year, birth_date.month, birth_date.day)\n",
    "\n",
    "if next_birthday < current_date:\n",
    "    next_birthday = datetime(current_date.year + 1, birth_date.month, birth_date.day)\n",
    "\n",
    "days_until_birthday = (next_birthday - current_date).days\n",
    "\n",
    "print(f\"Keyingi tug‘ilgan kuningizgacha {days_until_birthday} kun qoldi.\")\n"
   ]
  },
  {
   "cell_type": "code",
   "execution_count": 8,
   "metadata": {},
   "outputs": [
    {
     "name": "stdout",
     "output_type": "stream",
     "text": [
      "meeting 2025-03-22 17:00:00 end\n"
     ]
    }
   ],
   "source": [
    "from datetime import datetime, timedelta\n",
    "\n",
    "current_datetime_str = input(\"Joriy sana va vaqtni kiriting (YYYY-MM-DD HH:MM):\")\n",
    "current_datetime = datetime.strptime(current_datetime_str, \"%Y-%m-%d %H:%M\")\n",
    "hours = int(input(\"Davomiyligi soat\"))\n",
    "minutes = int(input(\"Davomiyligi minut\"))\n",
    "\n",
    "meeting_duration = timedelta(hours=hours, minutes=minutes)\n",
    "end_datetime = current_datetime + meeting_duration\n",
    "\n",
    "print(f\"meeting {end_datetime} end\")"
   ]
  }
 ],
 "metadata": {
  "kernelspec": {
   "display_name": "Python 3",
   "language": "python",
   "name": "python3"
  },
  "language_info": {
   "codemirror_mode": {
    "name": "ipython",
    "version": 3
   },
   "file_extension": ".py",
   "mimetype": "text/x-python",
   "name": "python",
   "nbconvert_exporter": "python",
   "pygments_lexer": "ipython3",
   "version": "3.13.2"
  }
 },
 "nbformat": 4,
 "nbformat_minor": 2
}
